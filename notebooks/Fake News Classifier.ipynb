{
 "cells": [
  {
   "cell_type": "markdown",
   "id": "4f983bda",
   "metadata": {},
   "source": [
    "## Building Word Count Vectors\n",
    "\n",
    "We do this in 3 steps:\n",
    "- Count Vectorizer\n",
    "- Tfidf Vectorizer\n",
    "- Inspecting the vectors"
   ]
  },
  {
   "cell_type": "markdown",
   "id": "d891710f",
   "metadata": {},
   "source": [
    "## Training and testing the classification model"
   ]
  },
  {
   "cell_type": "markdown",
   "id": "222c6e91",
   "metadata": {},
   "source": [
    "## Simple NLP, complex problems"
   ]
  },
  {
   "cell_type": "code",
   "execution_count": null,
   "id": "3a10f376",
   "metadata": {},
   "outputs": [],
   "source": []
  }
 ],
 "metadata": {
  "kernelspec": {
   "display_name": "Python 3 (ipykernel)",
   "language": "python",
   "name": "python3"
  },
  "language_info": {
   "codemirror_mode": {
    "name": "ipython",
    "version": 3
   },
   "file_extension": ".py",
   "mimetype": "text/x-python",
   "name": "python",
   "nbconvert_exporter": "python",
   "pygments_lexer": "ipython3",
   "version": "3.9.12"
  }
 },
 "nbformat": 4,
 "nbformat_minor": 5
}
