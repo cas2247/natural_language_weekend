{
 "cells": [
  {
   "cell_type": "markdown",
   "id": "cdbd7c7b",
   "metadata": {},
   "source": [
    "## Analyzing Voice of Customer in Python\n",
    "\n",
    "https://hbr.org/2019/07/the-problems-with-5-star-rating-systems-and-how-to-fix-them\n",
    "\n",
    "5-stat ratings systems do a very poor job of separating good from great products.  This is usually not a problem for marketplaces that offer commodity producst but is a serious problem for marketplaces where it is important for truly great providers to differentiate themselves clearly.\n",
    "\n",
    "Problems with 5-star ratings include:\n",
    "- response bias\n",
    "- grade inflation (as a result of bias)\n",
    "\n",
    "When presenting insights from ratings, it is essential to correct for category-level inflation as well as user-level inflation.\n",
    "\n",
    "\n",
    "In this analysis in particular, we aim to understand the correlation between a given rating for a product and the content of the review itself.\n",
    "\n",
    "### Tools\n",
    "\n",
    "\n",
    "\n",
    "### Finding data\n",
    "\n",
    "### Setup"
   ]
  },
  {
   "cell_type": "code",
   "execution_count": null,
   "id": "ff24a77a",
   "metadata": {},
   "outputs": [],
   "source": []
  }
 ],
 "metadata": {
  "kernelspec": {
   "display_name": "Python 3 (ipykernel)",
   "language": "python",
   "name": "python3"
  },
  "language_info": {
   "codemirror_mode": {
    "name": "ipython",
    "version": 3
   },
   "file_extension": ".py",
   "mimetype": "text/x-python",
   "name": "python",
   "nbconvert_exporter": "python",
   "pygments_lexer": "ipython3",
   "version": "3.9.12"
  }
 },
 "nbformat": 4,
 "nbformat_minor": 5
}
